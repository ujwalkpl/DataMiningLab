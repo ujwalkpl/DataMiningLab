{
 "cells": [
  {
   "cell_type": "markdown",
   "metadata": {},
   "source": [
    "# 1. Create dataset for supermarket perform data clearning and association mining using fpgrowth in rapidminer"
   ]
  },
  {
   "cell_type": "markdown",
   "metadata": {},
   "source": [
    "## Create Dataset"
   ]
  },
  {
   "cell_type": "code",
   "execution_count": 37,
   "metadata": {},
   "outputs": [
    {
     "data": {
      "text/html": [
       "<div>\n",
       "<style scoped>\n",
       "    .dataframe tbody tr th:only-of-type {\n",
       "        vertical-align: middle;\n",
       "    }\n",
       "\n",
       "    .dataframe tbody tr th {\n",
       "        vertical-align: top;\n",
       "    }\n",
       "\n",
       "    .dataframe thead th {\n",
       "        text-align: right;\n",
       "    }\n",
       "</style>\n",
       "<table border=\"1\" class=\"dataframe\">\n",
       "  <thead>\n",
       "    <tr style=\"text-align: right;\">\n",
       "      <th></th>\n",
       "      <th>tid</th>\n",
       "      <th>Ragi</th>\n",
       "      <th>Rice</th>\n",
       "      <th>Potato</th>\n",
       "      <th>Tomato</th>\n",
       "      <th>Brinjal</th>\n",
       "    </tr>\n",
       "  </thead>\n",
       "  <tbody>\n",
       "    <tr>\n",
       "      <th>0</th>\n",
       "      <td>1</td>\n",
       "      <td>1</td>\n",
       "      <td>1</td>\n",
       "      <td>0</td>\n",
       "      <td>0</td>\n",
       "      <td>1</td>\n",
       "    </tr>\n",
       "    <tr>\n",
       "      <th>1</th>\n",
       "      <td>2</td>\n",
       "      <td>0</td>\n",
       "      <td>1</td>\n",
       "      <td>0</td>\n",
       "      <td>1</td>\n",
       "      <td>0</td>\n",
       "    </tr>\n",
       "    <tr>\n",
       "      <th>2</th>\n",
       "      <td>3</td>\n",
       "      <td>1</td>\n",
       "      <td>1</td>\n",
       "      <td>0</td>\n",
       "      <td>0</td>\n",
       "      <td>0</td>\n",
       "    </tr>\n",
       "    <tr>\n",
       "      <th>3</th>\n",
       "      <td>4</td>\n",
       "      <td>0</td>\n",
       "      <td>0</td>\n",
       "      <td>0</td>\n",
       "      <td>0</td>\n",
       "      <td>0</td>\n",
       "    </tr>\n",
       "    <tr>\n",
       "      <th>4</th>\n",
       "      <td>5</td>\n",
       "      <td>1</td>\n",
       "      <td>0</td>\n",
       "      <td>0</td>\n",
       "      <td>0</td>\n",
       "      <td>0</td>\n",
       "    </tr>\n",
       "  </tbody>\n",
       "</table>\n",
       "</div>"
      ],
      "text/plain": [
       "   tid  Ragi  Rice  Potato  Tomato  Brinjal\n",
       "0    1     1     1       0       0        1\n",
       "1    2     0     1       0       1        0\n",
       "2    3     1     1       0       0        0\n",
       "3    4     0     0       0       0        0\n",
       "4    5     1     0       0       0        0"
      ]
     },
     "execution_count": 37,
     "metadata": {},
     "output_type": "execute_result"
    }
   ],
   "source": [
    "import pandas as pd\n",
    "import random\n",
    "import string\n",
    "data = {\n",
    "        'Ragi': list(random.randint(0,1) for i in range(1,50)),\n",
    "        'Rice': list(random.randint(0,1) for i in range(1,50)),\n",
    "        'Potato': list(random.randint(0,1) for i in range(1,50)),\n",
    "        'Tomato': list(random.randint(0,1) for i in range(1,50)),\n",
    "        'Brinjal':list(random.randint(0,1) for i in range(1,50)),\n",
    "        }\n",
    "\n",
    "df = pd.DataFrame (data, columns = ['Ragi','Rice','Potato','Tomato','Brinjal'],index=list(range(1,50)))\n",
    "df.index.name = \"tid\"\n",
    "\n",
    "df.to_csv(\"marketbasket.csv\")\n",
    "df = pd.read_csv(\"marketbasket.csv\")\n",
    "df.head()"
   ]
  },
  {
   "cell_type": "markdown",
   "metadata": {},
   "source": [
    "# 1.b For a set of 20 points write a R or python program to generate 3 clusters using K means"
   ]
  },
  {
   "cell_type": "code",
   "execution_count": 17,
   "metadata": {},
   "outputs": [],
   "source": [
    "from sklearn.cluster import KMeans\n",
    "import matplotlib.pyplot as plt"
   ]
  },
  {
   "cell_type": "code",
   "execution_count": 23,
   "metadata": {},
   "outputs": [
    {
     "data": {
      "text/plain": [
       "<matplotlib.collections.PathCollection at 0x287331cb1c0>"
      ]
     },
     "execution_count": 23,
     "metadata": {},
     "output_type": "execute_result"
    },
    {
     "data": {
      "image/png": "[encoded data removed]",
      "text/plain": [
       "<Figure size 432x288 with 1 Axes>"
      ]
     },
     "metadata": {
      "needs_background": "light"
     },
     "output_type": "display_data"
    }
   ],
   "source": [
    "from sklearn.cluster import KMeans\n",
    "from sklearn.datasets import make_blobs\n",
    "X, y_test = make_blobs(n_samples=20, centers=3, n_features=2,\n",
    "                  random_state=0)\n",
    "kmeans = KMeans(n_clusters=3, random_state=0).fit(X)\n",
    "\n",
    "plt.scatter(X[:, 0], X[:, 1], c=kmeans.labels_, s=50, cmap='viridis')\n",
    "\n",
    "centers = kmeans.cluster_centers_\n",
    "plt.scatter(centers[:, 0], centers[:, 1], c='black', s=200, alpha=0.5)\n"
   ]
  },
  {
   "cell_type": "markdown",
   "metadata": {},
   "source": [
    "# 2.a Create a bank dataset \n"
   ]
  },
  {
   "cell_type": "code",
   "execution_count": 39,
   "metadata": {},
   "outputs": [
    {
     "data": {
      "text/html": [
       "<div>\n",
       "<style scoped>\n",
       "    .dataframe tbody tr th:only-of-type {\n",
       "        vertical-align: middle;\n",
       "    }\n",
       "\n",
       "    .dataframe tbody tr th {\n",
       "        vertical-align: top;\n",
       "    }\n",
       "\n",
       "    .dataframe thead th {\n",
       "        text-align: right;\n",
       "    }\n",
       "</style>\n",
       "<table border=\"1\" class=\"dataframe\">\n",
       "  <thead>\n",
       "    <tr style=\"text-align: right;\">\n",
       "      <th></th>\n",
       "      <th>id</th>\n",
       "      <th>Name</th>\n",
       "      <th>Gender</th>\n",
       "      <th>State</th>\n",
       "      <th>age</th>\n",
       "      <th>amount</th>\n",
       "      <th>job</th>\n",
       "      <th>fraud</th>\n",
       "    </tr>\n",
       "  </thead>\n",
       "  <tbody>\n",
       "    <tr>\n",
       "      <th>0</th>\n",
       "      <td>1</td>\n",
       "      <td>EOUDW</td>\n",
       "      <td>M</td>\n",
       "      <td>tamilnadu</td>\n",
       "      <td>19</td>\n",
       "      <td>139125</td>\n",
       "      <td>Farmer</td>\n",
       "      <td>yes</td>\n",
       "    </tr>\n",
       "    <tr>\n",
       "      <th>1</th>\n",
       "      <td>2</td>\n",
       "      <td>OLNNE</td>\n",
       "      <td>NaN</td>\n",
       "      <td>tamilnadu</td>\n",
       "      <td>43</td>\n",
       "      <td>53018</td>\n",
       "      <td>Teacher</td>\n",
       "      <td>no</td>\n",
       "    </tr>\n",
       "    <tr>\n",
       "      <th>2</th>\n",
       "      <td>3</td>\n",
       "      <td>UQBTT</td>\n",
       "      <td>NaN</td>\n",
       "      <td>andhra</td>\n",
       "      <td>56</td>\n",
       "      <td>52250</td>\n",
       "      <td>Doctor</td>\n",
       "      <td>yes</td>\n",
       "    </tr>\n",
       "    <tr>\n",
       "      <th>3</th>\n",
       "      <td>4</td>\n",
       "      <td>GRITL</td>\n",
       "      <td>M</td>\n",
       "      <td>tamilnadu</td>\n",
       "      <td>18</td>\n",
       "      <td>31906</td>\n",
       "      <td>Doctor</td>\n",
       "      <td>no</td>\n",
       "    </tr>\n",
       "    <tr>\n",
       "      <th>4</th>\n",
       "      <td>5</td>\n",
       "      <td>ANBCE</td>\n",
       "      <td>NaN</td>\n",
       "      <td>tamilnadu</td>\n",
       "      <td>25</td>\n",
       "      <td>107952</td>\n",
       "      <td>Farmer</td>\n",
       "      <td>no</td>\n",
       "    </tr>\n",
       "  </tbody>\n",
       "</table>\n",
       "</div>"
      ],
      "text/plain": [
       "   id   Name Gender      State  age  amount      job fraud\n",
       "0   1  EOUDW      M  tamilnadu   19  139125   Farmer   yes\n",
       "1   2  OLNNE    NaN  tamilnadu   43   53018  Teacher    no\n",
       "2   3  UQBTT    NaN     andhra   56   52250   Doctor   yes\n",
       "3   4  GRITL      M  tamilnadu   18   31906   Doctor    no\n",
       "4   5  ANBCE    NaN  tamilnadu   25  107952   Farmer    no"
      ]
     },
     "execution_count": 39,
     "metadata": {},
     "output_type": "execute_result"
    }
   ],
   "source": [
    "import pandas as pd\n",
    "import random\n",
    "import string\n",
    "data = {\n",
    "        'Name': list(''.join(random.choices(string.ascii_uppercase, k = 5)) for i in range(1,50)),\n",
    "        'Gender': list(\" \".join(random.choices(['M','F',''])) for i in range(1,50)),\n",
    "        'State': list(''.join(random.choices(['karnataka','kerala','tamilnadu','andhra',''])) for i in range(1,50)),\n",
    "        'age': list(random.randint(12,60) for i in range(1,50)),\n",
    "        'amount': list(random.randint(5000,150000) for i in range(1,50)),\n",
    "        'job':list(\"\".join(random.choices(['Teacher','Doctor','Farmer'])) for i in range(1,50)),\n",
    "        'fraud':list(\"\".join(random.choices([\"yes\",\"no\"])) for i in range(1,50))\n",
    "        }\n",
    "\n",
    "df = pd.DataFrame (data, columns = ['Name','Gender','State','age','amount','job','fraud'],index=list(range(1,50)))\n",
    "df.index.name = \"id\"\n",
    "\n",
    "df.to_csv(\"output.csv\")\n",
    "df = pd.read_csv(\"output.csv\")\n",
    "df.head()"
   ]
  },
  {
   "cell_type": "markdown",
   "metadata": {},
   "source": [
    "# 3.b"
   ]
  },
  {
   "cell_type": "code",
   "execution_count": 50,
   "metadata": {},
   "outputs": [
    {
     "name": "stdout",
     "output_type": "stream",
     "text": [
      "[ 0  0  0  1  1  0 -1 -1  0  0  1  0  0  1  0  0  0  0  1  0]\n"
     ]
    },
    {
     "data": {
      "text/plain": [
       "<matplotlib.collections.PathCollection at 0x28731fd6940>"
      ]
     },
     "execution_count": 50,
     "metadata": {},
     "output_type": "execute_result"
    },
    {
     "data": {
      "image/png": "[encoded data removed]",
      "text/plain": [
       "<Figure size 432x288 with 1 Axes>"
      ]
     },
     "metadata": {
      "needs_background": "light"
     },
     "output_type": "display_data"
    }
   ],
   "source": [
    "from sklearn.cluster import DBSCAN\n",
    "from sklearn.datasets import make_blobs\n",
    "X, y_test = make_blobs(n_samples=20, centers=3, n_features=2,\n",
    "                  random_state=0)\n",
    "clustering = DBSCAN(eps=2, min_samples=2).fit(X)\n",
    "print(clustering.labels_)\n",
    "plt.scatter(X[:, 0], X[:, 1], c=clustering.labels_, s=50)\n",
    "\n"
   ]
  },
  {
   "cell_type": "markdown",
   "metadata": {},
   "source": [
    "# 5.b"
   ]
  },
  {
   "cell_type": "code",
   "execution_count": 123,
   "metadata": {},
   "outputs": [],
   "source": [
    "df = pd.read_csv('association_analysis.csv')"
   ]
  },
  {
   "cell_type": "code",
   "execution_count": 124,
   "metadata": {},
   "outputs": [
    {
     "data": {
      "text/html": [
       "<div>\n",
       "<style scoped>\n",
       "    .dataframe tbody tr th:only-of-type {\n",
       "        vertical-align: middle;\n",
       "    }\n",
       "\n",
       "    .dataframe tbody tr th {\n",
       "        vertical-align: top;\n",
       "    }\n",
       "\n",
       "    .dataframe thead th {\n",
       "        text-align: right;\n",
       "    }\n",
       "</style>\n",
       "<table border=\"1\" class=\"dataframe\">\n",
       "  <thead>\n",
       "    <tr style=\"text-align: right;\">\n",
       "      <th></th>\n",
       "      <th>tid</th>\n",
       "      <th>onion</th>\n",
       "      <th>tomato</th>\n",
       "      <th>potato</th>\n",
       "      <th>bottleguard</th>\n",
       "      <th>beans</th>\n",
       "    </tr>\n",
       "  </thead>\n",
       "  <tbody>\n",
       "    <tr>\n",
       "      <th>0</th>\n",
       "      <td>1</td>\n",
       "      <td>1</td>\n",
       "      <td>0</td>\n",
       "      <td>1</td>\n",
       "      <td>0</td>\n",
       "      <td>0</td>\n",
       "    </tr>\n",
       "    <tr>\n",
       "      <th>1</th>\n",
       "      <td>2</td>\n",
       "      <td>1</td>\n",
       "      <td>0</td>\n",
       "      <td>0</td>\n",
       "      <td>1</td>\n",
       "      <td>1</td>\n",
       "    </tr>\n",
       "    <tr>\n",
       "      <th>2</th>\n",
       "      <td>3</td>\n",
       "      <td>0</td>\n",
       "      <td>0</td>\n",
       "      <td>1</td>\n",
       "      <td>0</td>\n",
       "      <td>0</td>\n",
       "    </tr>\n",
       "    <tr>\n",
       "      <th>3</th>\n",
       "      <td>4</td>\n",
       "      <td>0</td>\n",
       "      <td>1</td>\n",
       "      <td>1</td>\n",
       "      <td>1</td>\n",
       "      <td>1</td>\n",
       "    </tr>\n",
       "    <tr>\n",
       "      <th>4</th>\n",
       "      <td>5</td>\n",
       "      <td>1</td>\n",
       "      <td>1</td>\n",
       "      <td>1</td>\n",
       "      <td>0</td>\n",
       "      <td>0</td>\n",
       "    </tr>\n",
       "  </tbody>\n",
       "</table>\n",
       "</div>"
      ],
      "text/plain": [
       "   tid  onion  tomato  potato  bottleguard  beans\n",
       "0    1      1       0       1            0      0\n",
       "1    2      1       0       0            1      1\n",
       "2    3      0       0       1            0      0\n",
       "3    4      0       1       1            1      1\n",
       "4    5      1       1       1            0      0"
      ]
     },
     "execution_count": 124,
     "metadata": {},
     "output_type": "execute_result"
    }
   ],
   "source": [
    "df.head()"
   ]
  },
  {
   "cell_type": "code",
   "execution_count": 125,
   "metadata": {},
   "outputs": [],
   "source": [
    "df = df.drop(\"tid\",axis=1)"
   ]
  },
  {
   "cell_type": "code",
   "execution_count": 126,
   "metadata": {},
   "outputs": [
    {
     "data": {
      "text/html": [
       "<div>\n",
       "<style scoped>\n",
       "    .dataframe tbody tr th:only-of-type {\n",
       "        vertical-align: middle;\n",
       "    }\n",
       "\n",
       "    .dataframe tbody tr th {\n",
       "        vertical-align: top;\n",
       "    }\n",
       "\n",
       "    .dataframe thead th {\n",
       "        text-align: right;\n",
       "    }\n",
       "</style>\n",
       "<table border=\"1\" class=\"dataframe\">\n",
       "  <thead>\n",
       "    <tr style=\"text-align: right;\">\n",
       "      <th></th>\n",
       "      <th>onion</th>\n",
       "      <th>tomato</th>\n",
       "      <th>potato</th>\n",
       "      <th>bottleguard</th>\n",
       "      <th>beans</th>\n",
       "    </tr>\n",
       "  </thead>\n",
       "  <tbody>\n",
       "    <tr>\n",
       "      <th>0</th>\n",
       "      <td>1</td>\n",
       "      <td>0</td>\n",
       "      <td>1</td>\n",
       "      <td>0</td>\n",
       "      <td>0</td>\n",
       "    </tr>\n",
       "    <tr>\n",
       "      <th>1</th>\n",
       "      <td>1</td>\n",
       "      <td>0</td>\n",
       "      <td>0</td>\n",
       "      <td>1</td>\n",
       "      <td>1</td>\n",
       "    </tr>\n",
       "    <tr>\n",
       "      <th>2</th>\n",
       "      <td>0</td>\n",
       "      <td>0</td>\n",
       "      <td>1</td>\n",
       "      <td>0</td>\n",
       "      <td>0</td>\n",
       "    </tr>\n",
       "    <tr>\n",
       "      <th>3</th>\n",
       "      <td>0</td>\n",
       "      <td>1</td>\n",
       "      <td>1</td>\n",
       "      <td>1</td>\n",
       "      <td>1</td>\n",
       "    </tr>\n",
       "    <tr>\n",
       "      <th>4</th>\n",
       "      <td>1</td>\n",
       "      <td>1</td>\n",
       "      <td>1</td>\n",
       "      <td>0</td>\n",
       "      <td>0</td>\n",
       "    </tr>\n",
       "  </tbody>\n",
       "</table>\n",
       "</div>"
      ],
      "text/plain": [
       "   onion  tomato  potato  bottleguard  beans\n",
       "0      1       0       1            0      0\n",
       "1      1       0       0            1      1\n",
       "2      0       0       1            0      0\n",
       "3      0       1       1            1      1\n",
       "4      1       1       1            0      0"
      ]
     },
     "execution_count": 126,
     "metadata": {},
     "output_type": "execute_result"
    }
   ],
   "source": [
    "df.head()"
   ]
  },
  {
   "cell_type": "code",
   "execution_count": 127,
   "metadata": {},
   "outputs": [],
   "source": [
    "list_of_transactions = []\n",
    "\n",
    "for i in range(len(df)):\n",
    "    transaction = []\n",
    "    for j in range(len(df.columns)):\n",
    "        if df.values[i][j] == 1:\n",
    "            transaction.append(df.columns[j])\n",
    "    if len(transaction):\n",
    "        list_of_transactions.append(transaction)"
   ]
  },
  {
   "cell_type": "code",
   "execution_count": 118,
   "metadata": {},
   "outputs": [
    {
     "ename": "NameError",
     "evalue": "name 'ma' is not defined",
     "output_type": "error",
     "traceback": [
      "\u001b[1;31m---------------------------------------------------------------------------\u001b[0m",
      "\u001b[1;31mNameError\u001b[0m                                 Traceback (most recent call last)",
      "\u001b[1;32m<ipython-input-118-cf7aa1fc7179>\u001b[0m in \u001b[0;36m<module>\u001b[1;34m\u001b[0m\n\u001b[1;32m----> 1\u001b[1;33m \u001b[0mma\u001b[0m\u001b[1;33m\u001b[0m\u001b[1;33m\u001b[0m\u001b[0m\n\u001b[0m",
      "\u001b[1;31mNameError\u001b[0m: name 'ma' is not defined"
     ]
    }
   ],
   "source": []
  },
  {
   "cell_type": "code",
   "execution_count": 128,
   "metadata": {},
   "outputs": [
    {
     "data": {
      "text/plain": [
       "[['onion', 'potato'], ['onion', 'bottleguard', 'beans'], ['potato']]"
      ]
     },
     "execution_count": 128,
     "metadata": {},
     "output_type": "execute_result"
    }
   ],
   "source": [
    "list_of_transactions[:3]"
   ]
  },
  {
   "cell_type": "code",
   "execution_count": 129,
   "metadata": {},
   "outputs": [],
   "source": [
    "from apyori import apriori"
   ]
  },
  {
   "cell_type": "code",
   "execution_count": 134,
   "metadata": {},
   "outputs": [],
   "source": [
    "rules = list(apriori(transactions = list_of_transactions, min_sup = 0.4, min_confidence = 0.6))"
   ]
  },
  {
   "cell_type": "code",
   "execution_count": 148,
   "metadata": {},
   "outputs": [
    {
     "data": {
      "text/plain": [
       "RelationRecord(items=frozenset({'tomato', 'beans'}), support=0.3137254901960784, ordered_statistics=[OrderedStatistic(items_base=frozenset({'beans'}), items_add=frozenset({'tomato'}), confidence=0.64, lift=1.1255172413793104)])"
      ]
     },
     "execution_count": 148,
     "metadata": {},
     "output_type": "execute_result"
    }
   ],
   "source": [
    "rules[0]"
   ]
  },
  {
   "cell_type": "code",
   "execution_count": 152,
   "metadata": {},
   "outputs": [
    {
     "data": {
      "text/plain": [
       "[OrderedStatistic(items_base=frozenset({'beans'}), items_add=frozenset({'tomato'}), confidence=0.64, lift=1.1255172413793104)]"
      ]
     },
     "execution_count": 152,
     "metadata": {},
     "output_type": "execute_result"
    }
   ],
   "source": [
    "rules[0][2]"
   ]
  },
  {
   "cell_type": "code",
   "execution_count": 153,
   "metadata": {},
   "outputs": [
    {
     "name": "stdout",
     "output_type": "stream",
     "text": [
      "Rule: tomato -> beans\n",
      "Support: 0.3137254901960784\n",
      "Confidence: 0.64\n",
      "Lift: 1.1255172413793104\n",
      "=====================================\n",
      "Rule: tomato -> bottleguard,beans\n",
      "Support: 0.19607843137254902\n",
      "Confidence: 0.7692307692307693\n",
      "Lift: 1.3527851458885942\n",
      "=====================================\n",
      "Rule: potato -> onion,beans\n",
      "Support: 0.13725490196078433\n",
      "Confidence: 0.6363636363636364\n",
      "Lift: 1.2482517482517483\n",
      "=====================================\n",
      "Rule: potato -> tomato,beans\n",
      "Support: 0.1568627450980392\n",
      "Confidence: 0.7272727272727272\n",
      "Lift: 1.2789968652037615\n",
      "=====================================\n",
      "Rule: potato -> bottleguard,onion\n",
      "Support: 0.13725490196078433\n",
      "Confidence: 0.6363636363636364\n",
      "Lift: 1.2482517482517483\n",
      "=====================================\n",
      "Rule: potato -> tomato,bottleguard\n",
      "Support: 0.1568627450980392\n",
      "Confidence: 0.6666666666666666\n",
      "Lift: 1.1724137931034482\n",
      "=====================================\n",
      "Rule: potato -> tomato,onion\n",
      "Support: 0.17647058823529413\n",
      "Confidence: 0.6428571428571428\n",
      "Lift: 1.1305418719211822\n",
      "=====================================\n"
     ]
    }
   ],
   "source": [
    "for item in rules:\n",
    "    pair = item[0] \n",
    "    items = [x for x in pair]\n",
    "    print(\"Rule: \" + items[0] + \" -> \" + \",\".join(items[1:]))\n",
    "    print(\"Support: \" + str(item[1]))\n",
    "    print(\"Confidence: \" + str(item[2][0][2]))\n",
    "    print(\"Lift: \" + str(item[2][0][3]))\n",
    "    print(\"=====================================\")"
   ]
  },
  {
   "cell_type": "code",
   "execution_count": null,
   "metadata": {},
   "outputs": [],
   "source": []
  }
 ],
 "metadata": {
  "kernelspec": {
   "display_name": "Python 3",
   "language": "python",
   "name": "python3"
  },
  "language_info": {
   "codemirror_mode": {
    "name": "ipython",
    "version": 3
   },
   "file_extension": ".py",
   "mimetype": "text/x-python",
   "name": "python",
   "nbconvert_exporter": "python",
   "pygments_lexer": "ipython3",
   "version": "3.8.3"
  }
 },
 "nbformat": 4,
 "nbformat_minor": 4
}
