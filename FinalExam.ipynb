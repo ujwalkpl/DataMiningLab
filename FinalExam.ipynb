{
 "cells": [
  {
   "cell_type": "markdown",
   "metadata": {},
   "source": [
    "# 1. Create dataset for supermarket perform data clearning and association mining using fpgrowth in rapidminer"
   ]
  },
  {
   "cell_type": "markdown",
   "metadata": {},
   "source": [
    "## Create Dataset"
   ]
  },
  {
   "cell_type": "code",
   "execution_count": 6,
   "metadata": {},
   "outputs": [
    {
     "data": {
      "text/html": [
       "<div>\n",
       "<style scoped>\n",
       "    .dataframe tbody tr th:only-of-type {\n",
       "        vertical-align: middle;\n",
       "    }\n",
       "\n",
       "    .dataframe tbody tr th {\n",
       "        vertical-align: top;\n",
       "    }\n",
       "\n",
       "    .dataframe thead th {\n",
       "        text-align: right;\n",
       "    }\n",
       "</style>\n",
       "<table border=\"1\" class=\"dataframe\">\n",
       "  <thead>\n",
       "    <tr style=\"text-align: right;\">\n",
       "      <th></th>\n",
       "      <th>Ragi</th>\n",
       "      <th>Rice</th>\n",
       "      <th>Potato</th>\n",
       "      <th>Tomato</th>\n",
       "      <th>Brinjal</th>\n",
       "    </tr>\n",
       "    <tr>\n",
       "      <th>tid</th>\n",
       "      <th></th>\n",
       "      <th></th>\n",
       "      <th></th>\n",
       "      <th></th>\n",
       "      <th></th>\n",
       "    </tr>\n",
       "  </thead>\n",
       "  <tbody>\n",
       "    <tr>\n",
       "      <th>1</th>\n",
       "      <td></td>\n",
       "      <td>1</td>\n",
       "      <td></td>\n",
       "      <td>0</td>\n",
       "      <td>0</td>\n",
       "    </tr>\n",
       "    <tr>\n",
       "      <th>2</th>\n",
       "      <td></td>\n",
       "      <td>0</td>\n",
       "      <td>0</td>\n",
       "      <td></td>\n",
       "      <td>0</td>\n",
       "    </tr>\n",
       "    <tr>\n",
       "      <th>3</th>\n",
       "      <td>0</td>\n",
       "      <td>1</td>\n",
       "      <td>0</td>\n",
       "      <td>1</td>\n",
       "      <td>0</td>\n",
       "    </tr>\n",
       "    <tr>\n",
       "      <th>4</th>\n",
       "      <td>0</td>\n",
       "      <td></td>\n",
       "      <td>0</td>\n",
       "      <td></td>\n",
       "      <td></td>\n",
       "    </tr>\n",
       "    <tr>\n",
       "      <th>5</th>\n",
       "      <td>0</td>\n",
       "      <td></td>\n",
       "      <td></td>\n",
       "      <td>0</td>\n",
       "      <td>1</td>\n",
       "    </tr>\n",
       "  </tbody>\n",
       "</table>\n",
       "</div>"
      ],
      "text/plain": [
       "    Ragi Rice Potato Tomato Brinjal\n",
       "tid                                \n",
       "1           1             0       0\n",
       "2           0      0              0\n",
       "3      0    1      0      1       0\n",
       "4      0           0               \n",
       "5      0                  0       1"
      ]
     },
     "execution_count": 6,
     "metadata": {},
     "output_type": "execute_result"
    }
   ],
   "source": [
    "import pandas as pd\n",
    "import random\n",
    "import string\n",
    "data = {\n",
    "        'Ragi': list(\" \".join(random.choices(['0','1',''])) for i in range(1,50)),\n",
    "        'Rice': list(\" \".join(random.choices(['0','1',''])) for i in range(1,50)),\n",
    "        'Potato': list(\" \".join(random.choices(['0','1',''])) for i in range(1,50)),\n",
    "        'Tomato': list(\" \".join(random.choices(['0','1',''])) for i in range(1,50)),\n",
    "        'Brinjal': list(\" \".join(random.choices(['0','1',''])) for i in range(1,50))\n",
    "        }\n",
    "\n",
    "df = pd.DataFrame (data, columns = ['Ragi','Rice','Potato','Tomato','Brinjal'],index=list(range(1,50)))\n",
    "df.index.name = \"tid\"\n",
    "\n",
    "df.to_csv(\"marketbasket.csv\")\n",
    "df.head()"
   ]
  },
  {
   "cell_type": "code",
   "execution_count": null,
   "metadata": {},
   "outputs": [],
   "source": []
  },
  {
   "cell_type": "markdown",
   "metadata": {},
   "source": [
    "# 1.b For a set of 20 points write a R or python program to generate 3 clusters using K means"
   ]
  },
  {
   "cell_type": "code",
   "execution_count": 7,
   "metadata": {},
   "outputs": [],
   "source": [
    "from sklearn.cluster import KMeans"
   ]
  },
  {
   "cell_type": "code",
   "execution_count": 15,
   "metadata": {},
   "outputs": [],
   "source": [
    "from sklearn.cluster import KMeans\n",
    "from sklearn.datasets import make_blobs\n",
    "X, y_test = make_blobs(n_samples=20, centers=3, n_features=2,\n",
    "                  random_state=0)\n",
    "kmeans = KMeans(n_clusters=2, random_state=0).fit(X)\n",
    "\n",
    "plt.scatter(X[:, 0], X[:, 1], c=kmeans.labels_, s=50, cmap='viridis')\n",
    "\n",
    "centers = kmeans.cluster_centers_\n",
    "plt.scatter(centers[:, 0], centers[:, 1], c='black', s=200, alpha=0.5)"
   ]
  },
  {
   "cell_type": "code",
   "execution_count": null,
   "metadata": {},
   "outputs": [],
   "source": [
    "\n",
    "import numpy as np\n",
    "X = np.array([[1, 2], [1, 4], [1, 0],\n",
    "               [10, 2], [10, 4], [10, 0]])\n",
    ">>> kmeans = KMeans(n_clusters=2, random_state=0).fit(X)\n",
    ">>> kmeans.labels_\n",
    "array([1, 1, 1, 0, 0, 0], dtype=int32)\n",
    ">>> kmeans.predict([[0, 0], [12, 3]])\n",
    "array([1, 0], dtype=int32)\n",
    ">>> kmeans.cluster_centers_\n",
    "array([[10.,  2.],\n",
    "       [ 1.,  2.]])"
   ]
  },
  {
   "cell_type": "code",
   "execution_count": null,
   "metadata": {},
   "outputs": [],
   "source": [
    "import pandas as pd\n",
    "import random\n",
    "import string\n",
    "data = {\n",
    "        'Name': list(''.join(random.choices(string.ascii_uppercase, k = 5)) for i in range(1,50)),\n",
    "        'Gender': list(\" \".join(random.choices(['M','F',''])) for i in range(1,50)),\n",
    "        'State': list(''.join(random.choices(['karnataka','kerala','tamilnadu','andhra',''])) for i in range(1,50)),\n",
    "        'age': list(random.randint(12,60) for i in range(1,50)),\n",
    "        'experience': list(random.randint(1,15) for i in range(1,50))\n",
    "        }\n",
    "\n",
    "df = pd.DataFrame (data, columns = ['Name','Gender','State','age','experience'],index=list(range(1,50)))\n",
    "df.index.name = \"id\"\n",
    "print (df)\n",
    "df.to_csv(\"output.csv\")"
   ]
  }
 ],
 "metadata": {
  "kernelspec": {
   "display_name": "Python 3",
   "language": "python",
   "name": "python3"
  },
  "language_info": {
   "codemirror_mode": {
    "name": "ipython",
    "version": 3
   },
   "file_extension": ".py",
   "mimetype": "text/x-python",
   "name": "python",
   "nbconvert_exporter": "python",
   "pygments_lexer": "ipython3",
   "version": "3.8.3"
  }
 },
 "nbformat": 4,
 "nbformat_minor": 4
}
